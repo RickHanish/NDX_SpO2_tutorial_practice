{
  "cells": [
    {
      "cell_type": "markdown",
      "metadata": {},
      "source": [
        "\n",
        "\n",
        "# Extending NWB\n",
        "\n",
        "The NWB format was designed to be easily extendable. Here we discuss some of the basic functionality\n",
        "in PyNWB for creating  Neurodata Extensions (NDX).\n",
        "\n",
        ".. seealso::\n",
        "\n",
        "    For a more in-depth, step-by-step guide on how to create, document, and publish NWB extensions, we highly\n",
        "    recommend visiting the :nwb_overview:`extension tutorial <extensions_tutorial/extensions_tutorial_home.html>`\n",
        "    on the :nwb_overview:`nwb overview <>` website.\n"
      ]
    },
    {
      "cell_type": "markdown",
      "metadata": {},
      "source": [
        "\n",
        "## Defining extensions\n",
        "\n",
        "Extensions should be defined separately from the code that uses the extensions. This design decision is\n",
        "based on the assumption that the extension will be written once, and read or used multiple times. Here, we\n",
        "provide an example of how to create an extension for subsequent use.\n",
        "\n",
        "The following block of code demonstrates how to create a new namespace, and then add a new `neurodata_type`\n",
        "to this namespace. Finally,\n",
        "it calls :py:meth:`~hdmf.spec.write.NamespaceBuilder.export` to save the extensions to disk for downstream use.\n",
        "\n"
      ]
    },
    {
      "cell_type": "code",
      "execution_count": 1,
      "metadata": {
        "collapsed": false
      },
      "outputs": [],
      "source": [
        "from pynwb.spec import NWBAttributeSpec, NWBGroupSpec, NWBNamespaceBuilder\n",
        "\n",
        "ns_path = \"mylab.namespace.yaml\"\n",
        "ext_source = \"mylab.extensions.yaml\"\n",
        "\n",
        "ns_builder = NWBNamespaceBuilder(\n",
        "    \"Extension for use in my Lab\", \"mylab\", version=\"0.1.0\"\n",
        ")\n",
        "\n",
        "ns_builder.include_type(\"ElectricalSeries\", namespace=\"core\")\n",
        "\n",
        "ext = NWBGroupSpec(\n",
        "    \"A custom ElectricalSeries for my lab\",\n",
        "    attributes=[NWBAttributeSpec(\"trode_id\", \"the tetrode id\", \"int\")],\n",
        "    neurodata_type_inc=\"ElectricalSeries\",\n",
        "    neurodata_type_def=\"TetrodeSeries\",\n",
        ")\n",
        "\n",
        "ns_builder.add_spec(ext_source, ext)\n",
        "ns_builder.export(ns_path)"
      ]
    },
    {
      "cell_type": "markdown",
      "metadata": {},
      "source": [
        "Running this block will produce two YAML files.\n",
        "\n",
        "The first file, mylab.namespace.yaml, contains the specification of the namespace.\n",
        "\n",
        "```yaml\n",
        "namespaces:\n",
        "- doc: Extension for use in my Lab\n",
        "  name: mylab\n",
        "  schema:\n",
        "  - namespace: core\n",
        "    neurodata_type:\n",
        "    - ElectricalSeries\n",
        "  - source: mylab.extensions.yaml\n",
        "```\n",
        "The second file, mylab.extensions.yaml, contains the details on newly defined types.\n",
        "\n",
        "```yaml\n",
        "groups:\n",
        "- attributes:\n",
        "  - doc: the tetrode id\n",
        "    dtype: int\n",
        "    name: trode_id\n",
        "  doc: A custom ElectricalSeries for my lab\n",
        "  neurodata_type_def: TetrodeSeries\n",
        "  neurodata_type_inc: ElectricalSeries\n",
        "```\n",
        ".. tip::\n",
        "\n",
        "    Detailed documentation of all components and `neurodata_types` that are part of the core schema of NWB:N are\n",
        "    available in the schema docs at [http://nwb-schema.readthedocs.io](http://nwb-schema.readthedocs.io) .\n",
        "    Before creating a new type from scratch, please have a look at the schema docs to see if using or extending an\n",
        "    existing type may solve your problem. Also, the schema docs are helpful when extending an existing type to\n",
        "    better understand the design and structure of the neurodata_type you are using.\n",
        "\n"
      ]
    },
    {
      "cell_type": "markdown",
      "metadata": {},
      "source": [
        "\n",
        "## Using extensions\n",
        "\n",
        "After an extension has been created, it can be used by downstream code for reading and writing data.\n",
        "There are two main mechanisms for reading and writing extension data with PyNWB.\n",
        "The first involves defining new :py:class:`~pynwb.core.NWBContainer` classes that are then mapped\n",
        "to the neurodata types in the extension.\n",
        "\n"
      ]
    },
    {
      "cell_type": "code",
      "execution_count": 2,
      "metadata": {
        "collapsed": false
      },
      "outputs": [],
      "source": [
        "from hdmf.utils import docval, get_docval, popargs\n",
        "\n",
        "from pynwb import load_namespaces, register_class\n",
        "from pynwb.ecephys import ElectricalSeries\n",
        "\n",
        "ns_path = \"mylab.namespace.yaml\"\n",
        "load_namespaces(ns_path)\n",
        "\n",
        "\n",
        "@register_class(\"TetrodeSeries\", \"mylab\")\n",
        "class TetrodeSeries(ElectricalSeries):\n",
        "    __nwbfields__ = (\"trode_id\",)\n",
        "\n",
        "    @docval(\n",
        "        *get_docval(ElectricalSeries.__init__)\n",
        "        + ({\"name\": \"trode_id\", \"type\": int, \"doc\": \"the tetrode id\"},)\n",
        "    )\n",
        "    def __init__(self, **kwargs):\n",
        "        trode_id = popargs(\"trode_id\", kwargs)\n",
        "        super().__init__(**kwargs)\n",
        "        self.trode_id = trode_id"
      ]
    },
    {
      "cell_type": "markdown",
      "metadata": {},
      "source": [
        "<div class=\"alert alert-info\"><h4>Note</h4><p>See the API docs for more information about :py:func:`~hdmf.utils.docval`,\n",
        "    :py:func:`~hdmf.utils.popargs`, and :py:func:`~hdmf.utils.get_docval`</p></div>\n",
        "\n",
        "When extending :py:class:`~pynwb.core.NWBContainer` or :py:class:`~pynwb.core.NWBContainer`\n",
        "subclasses, you should define the class field ``__nwbfields__``. This will\n",
        "tell PyNWB the properties of the :py:class:`~pynwb.core.NWBContainer` extension.\n",
        "\n",
        "If you do not want to write additional code to read your extensions, PyNWB is able to dynamically\n",
        "create an :py:class:`~pynwb.core.NWBContainer` subclass for use within the PyNWB API.\n",
        "Dynamically created classes can be inspected using the built-in :py:mod:`inspect` module.\n",
        "\n"
      ]
    },
    {
      "cell_type": "code",
      "execution_count": 3,
      "metadata": {
        "collapsed": false
      },
      "outputs": [],
      "source": [
        "from pynwb import get_class, load_namespaces\n",
        "\n",
        "ns_path = \"mylab.namespace.yaml\"\n",
        "load_namespaces(ns_path)\n",
        "\n",
        "AutoTetrodeSeries = get_class(\"TetrodeSeries\", \"mylab\")"
      ]
    },
    {
      "cell_type": "markdown",
      "metadata": {},
      "source": [
        "<div class=\"alert alert-info\"><h4>Note</h4><p>When defining your own :py:class:`~pynwb.core.NWBContainer`, the subclass name does not need to be the same\n",
        "    as the extension type name. However, it is encouraged to keep class and extension names the same for the\n",
        "    purposes of readability.</p></div>\n",
        "\n"
      ]
    },
    {
      "cell_type": "markdown",
      "metadata": {},
      "source": [
        "\n",
        "## Caching extensions to file\n",
        "\n",
        "By default, extensions are cached to file so that your NWB file will carry the extensions needed to read the file\n",
        "with it.\n",
        "\n",
        "To demonstrate this, first we will make some simulated data using our extensions.\n",
        "\n"
      ]
    },
    {
      "cell_type": "code",
      "execution_count": 8,
      "metadata": {
        "collapsed": false
      },
      "outputs": [],
      "source": [
        "from datetime import datetime\n",
        "\n",
        "from dateutil.tz import tzlocal\n",
        "\n",
        "from pynwb import NWBFile\n",
        "\n",
        "start_time = datetime(2017, 4, 3, 11, tzinfo=tzlocal())\n",
        "create_date = datetime(2017, 4, 15, 12, tzinfo=tzlocal())\n",
        "\n",
        "nwbfile = NWBFile(\n",
        "    \"demonstrate caching\", \"NWB456\", start_time, file_create_date=create_date\n",
        ")\n",
        "\n",
        "device = nwbfile.create_device(name=\"trodes_rig123\")\n",
        "\n",
        "electrode_name = \"tetrode1\"\n",
        "description = \"an example tetrode\"\n",
        "location = \"somewhere in the hippocampus\"\n",
        "\n",
        "electrode_group = nwbfile.create_electrode_group(\n",
        "    electrode_name, description=description, location=location, device=device\n",
        ")\n",
        "for idx in [1, 2, 3, 4]:\n",
        "    nwbfile.add_electrode(\n",
        "        id=idx,\n",
        "        x=1.0,\n",
        "        y=2.0,\n",
        "        z=3.0,\n",
        "        imp=float(-idx),\n",
        "        location=\"CA1\",\n",
        "        filtering=\"none\",\n",
        "        group=electrode_group,\n",
        "    )\n",
        "electrode_table_region = nwbfile.create_electrode_table_region(\n",
        "    [0, 2], \"the first and third electrodes\"\n",
        ")\n",
        "\n",
        "import numpy as np\n",
        "\n",
        "rate = 10.0\n",
        "np.random.seed(1234)\n",
        "data_len = 1000\n",
        "data = np.random.rand(data_len * 2).reshape((data_len, 2))\n",
        "timestamps = np.arange(data_len) / rate\n",
        "\n",
        "ts = TetrodeSeries(\n",
        "    \"test_ephys_data\",\n",
        "    data,\n",
        "    electrode_table_region,\n",
        "    timestamps=timestamps,\n",
        "    trode_id=1,\n",
        "    # Alternatively, could specify starting_time and rate as follows\n",
        "    # starting_time=ephys_timestamps[0],\n",
        "    # rate=rate,\n",
        "    resolution=0.001,\n",
        "    comments=\"This data was randomly generated with numpy, using 1234 as the seed\",\n",
        "    description=\"Random numbers generated with numpy.random.rand\",\n",
        ")\n",
        "nwbfile.add_acquisition(ts)"
      ]
    },
    {
      "cell_type": "markdown",
      "metadata": {},
      "source": [
        "<div class=\"alert alert-info\"><h4>Note</h4><p>For more information on writing :py:class:`~pynwb.ecephys.ElectricalSeries`,\n",
        "    see `ecephys_tutorial`.</p></div>\n",
        "\n",
        "Now that we have some data, lets write our file. You can choose not to cache the spec by setting\n",
        "cache_spec=False in :py:meth:`~hdmf.backends.hdf5.h5tools.HDF5IO.write`\n",
        "\n"
      ]
    },
    {
      "cell_type": "code",
      "execution_count": 9,
      "metadata": {
        "collapsed": false
      },
      "outputs": [],
      "source": [
        "from pynwb import NWBHDF5IO\n",
        "\n",
        "io = NWBHDF5IO(\"cache_spec_example.nwb\", mode=\"w\")\n",
        "io.write(nwbfile)\n",
        "io.close()"
      ]
    },
    {
      "cell_type": "markdown",
      "metadata": {},
      "source": [
        "<div class=\"alert alert-info\"><h4>Note</h4><p>For more information on writing NWB files, see `basic_writing`.</p></div>\n",
        "\n",
        "By default, if a namespace is not already loaded, PyNWB loads the namespace cached in\n",
        "the file. To disable this, set ``load_namespaces=False`` in the\n",
        ":py:class:`~pynwb.NWBHDF5IO` constructor.\n",
        "\n",
        "\n",
        "## Creating and using a custom MultiContainerInterface\n",
        "It is sometimes the case that we need a group to hold zero-or-more or\n",
        "one-or-more of the same object. Here we show how to create an extension that\n",
        "defines a group (`PotatoSack`) that holds multiple objects (`Potato`) and\n",
        "then how to use the new data types. First, we use `pynwb` to define the new\n",
        "data types.\n",
        "\n"
      ]
    },
    {
      "cell_type": "code",
      "execution_count": 10,
      "metadata": {
        "collapsed": false
      },
      "outputs": [],
      "source": [
        "from pynwb.spec import NWBAttributeSpec, NWBGroupSpec, NWBNamespaceBuilder\n",
        "\n",
        "name = \"test_multicontainerinterface\"\n",
        "ns_path = name + \".namespace.yaml\"\n",
        "ext_source = name + \".extensions.yaml\"\n",
        "\n",
        "ns_builder = NWBNamespaceBuilder(name + \" extensions\", name, version=\"0.1.0\")\n",
        "ns_builder.include_type(\"NWBDataInterface\", namespace=\"core\")\n",
        "\n",
        "potato = NWBGroupSpec(\n",
        "    neurodata_type_def=\"Potato\",\n",
        "    neurodata_type_inc=\"NWBDataInterface\",\n",
        "    doc=\"A potato\",\n",
        "    quantity=\"*\",\n",
        "    attributes=[\n",
        "        NWBAttributeSpec(\n",
        "            name=\"weight\", doc=\"weight of potato\", dtype=\"float\", required=True\n",
        "        ),\n",
        "        NWBAttributeSpec(\n",
        "            name=\"age\", doc=\"age of potato\", dtype=\"float\", required=False\n",
        "        ),\n",
        "    ],\n",
        ")\n",
        "\n",
        "potato_sack = NWBGroupSpec(\n",
        "    neurodata_type_def=\"PotatoSack\",\n",
        "    neurodata_type_inc=\"NWBDataInterface\",\n",
        "    name=\"potato_sack\",\n",
        "    doc=\"A sack of potatoes\",\n",
        "    quantity=\"?\",\n",
        "    groups=[potato],\n",
        ")\n",
        "\n",
        "ns_builder.add_spec(ext_source, potato_sack)\n",
        "ns_builder.export(ns_path)"
      ]
    },
    {
      "cell_type": "markdown",
      "metadata": {},
      "source": [
        "Then create Container classes registered to the new data types (this is\n",
        "generally done in a different file)\n",
        "\n"
      ]
    },
    {
      "cell_type": "code",
      "execution_count": 11,
      "metadata": {
        "collapsed": false
      },
      "outputs": [],
      "source": [
        "from pynwb import load_namespaces, register_class\n",
        "from pynwb.file import MultiContainerInterface, NWBContainer\n",
        "\n",
        "load_namespaces(ns_path)\n",
        "\n",
        "\n",
        "@register_class(\"Potato\", name)\n",
        "class Potato(NWBContainer):\n",
        "    __nwbfields__ = (\"name\", \"weight\", \"age\")\n",
        "\n",
        "    @docval(\n",
        "        {\"name\": \"name\", \"type\": str, \"doc\": \"who names a potato?\"},\n",
        "        {\"name\": \"weight\", \"type\": float, \"doc\": \"weight of potato in grams\"},\n",
        "        {\"name\": \"age\", \"type\": float, \"doc\": \"age of potato in days\"},\n",
        "    )\n",
        "    def __init__(self, **kwargs):\n",
        "        super().__init__(name=kwargs[\"name\"])\n",
        "        self.weight = kwargs[\"weight\"]\n",
        "        self.age = kwargs[\"age\"]\n",
        "\n",
        "\n",
        "@register_class(\"PotatoSack\", name)\n",
        "class PotatoSack(MultiContainerInterface):\n",
        "    __clsconf__ = {\n",
        "        \"attr\": \"potatos\",\n",
        "        \"type\": Potato,\n",
        "        \"add\": \"add_potato\",\n",
        "        \"get\": \"get_potato\",\n",
        "        \"create\": \"create_potato\",\n",
        "    }"
      ]
    },
    {
      "cell_type": "markdown",
      "metadata": {},
      "source": [
        "Then use the objects (again, this would often be done in a different file).\n",
        "\n"
      ]
    },
    {
      "cell_type": "code",
      "execution_count": 12,
      "metadata": {
        "collapsed": false
      },
      "outputs": [],
      "source": [
        "from datetime import datetime\n",
        "\n",
        "from dateutil.tz import tzlocal\n",
        "\n",
        "from pynwb import NWBHDF5IO, NWBFile\n",
        "\n",
        "# You can add potatoes to a potato sack in different ways\n",
        "potato_sack = PotatoSack(potatos=Potato(name=\"potato1\", age=2.3, weight=3.0))\n",
        "potato_sack.add_potato(Potato(\"potato2\", 3.0, 4.0))\n",
        "potato_sack.create_potato(\"big_potato\", 10.0, 20.0)\n",
        "\n",
        "nwbfile = NWBFile(\n",
        "    \"a file with metadata\", \"NB123A\", datetime(2018, 6, 1, tzinfo=tzlocal())\n",
        ")\n",
        "\n",
        "pmod = nwbfile.create_processing_module(\"module_name\", \"desc\")\n",
        "pmod.add_container(potato_sack)\n",
        "\n",
        "\n",
        "with NWBHDF5IO(\"test_multicontainerinterface.nwb\", \"w\") as io:\n",
        "    io.write(nwbfile)"
      ]
    },
    {
      "cell_type": "markdown",
      "metadata": {},
      "source": [
        "This is how you read the NWB file (again, this would often be done in a\n",
        "different file).\n",
        "\n"
      ]
    },
    {
      "cell_type": "code",
      "execution_count": 13,
      "metadata": {
        "collapsed": false
      },
      "outputs": [
        {
          "name": "stdout",
          "output_type": "stream",
          "text": [
            "10.0\n"
          ]
        }
      ],
      "source": [
        "load_namespaces(ns_path)\n",
        "# from xxx import PotatoSack, Potato\n",
        "with NWBHDF5IO(\"test_multicontainerinterface.nwb\", \"r\") as io:\n",
        "    nwb = io.read()\n",
        "    print(nwb.get_processing_module()[\"potato_sack\"].get_potato(\"big_potato\").weight)\n",
        "# note: you can call get_processing_module() with or without the module name as\n",
        "# an argument. However, if there is more than one module, the name is required.\n",
        "# Here, there is more than one potato, so the name of the potato is required as\n",
        "# an argument to get_potato"
      ]
    },
    {
      "cell_type": "markdown",
      "metadata": {},
      "source": [
        "## Example: Cortical Surface Mesh\n",
        "\n",
        "Here we show how to create extensions by creating a data class for a\n",
        "cortical surface mesh. This data type is particularly important for ECoG data, since we need to know where\n",
        "each electrode is with respect to the gyri and sulci. Surface mesh objects contain two types of data:\n",
        "\n",
        "1. `vertices`, which is an (n, 3) matrix of floats that represents points in 3D space\n",
        "\n",
        "2. `faces`, which is an (m, 3) matrix of uints that represents indices of the `vertices` matrix. Each triplet of\n",
        "points defines a triangular face, and the mesh is comprised of a collection of triangular faces.\n",
        "\n",
        "First, we set up our extension. I am going to use the name `ecog`\n",
        "\n"
      ]
    },
    {
      "cell_type": "code",
      "execution_count": null,
      "metadata": {
        "collapsed": false
      },
      "outputs": [],
      "source": [
        "from pynwb.spec import NWBDatasetSpec, NWBGroupSpec, NWBNamespaceBuilder\n",
        "\n",
        "name = \"ecog\"\n",
        "ns_path = name + \".namespace.yaml\"\n",
        "ext_source = name + \".extensions.yaml\"\n",
        "\n",
        "# Now we define the data structures. We use `NWBDataInterface` as the base type,\n",
        "# which is the most primitive type you are likely to use as a base. The name of the\n",
        "# class is `CorticalSurface`, and it requires two matrices, `vertices` and\n",
        "# `faces`.\n",
        "\n",
        "surface = NWBGroupSpec(\n",
        "    doc=\"brain cortical surface\",\n",
        "    datasets=[\n",
        "        NWBDatasetSpec(\n",
        "            doc=\"faces for surface, indexes vertices\",\n",
        "            shape=(None, 3),\n",
        "            name=\"faces\",\n",
        "            dtype=\"uint\",\n",
        "            dims=(\"face_number\", \"vertex_index\"),\n",
        "        ),\n",
        "        NWBDatasetSpec(\n",
        "            doc=\"vertices for surface, points in 3D space\",\n",
        "            shape=(None, 3),\n",
        "            name=\"vertices\",\n",
        "            dtype=\"float\",\n",
        "            dims=(\"vertex_number\", \"xyz\"),\n",
        "        ),\n",
        "    ],\n",
        "    neurodata_type_def=\"CorticalSurface\",\n",
        "    neurodata_type_inc=\"NWBDataInterface\",\n",
        ")\n",
        "\n",
        "# Now we set up the builder and add this object\n",
        "\n",
        "ns_builder = NWBNamespaceBuilder(name + \" extensions\", name, version=\"0.1.0\")\n",
        "ns_builder.add_spec(ext_source, surface)\n",
        "ns_builder.export(ns_path)\n",
        "\n",
        "################\n",
        "# The above should generate 2 YAML files. `ecog.extensions.yaml`,\n",
        "# defines the newly defined types\n",
        "#\n",
        "# .. code-block:: yaml\n",
        "#\n",
        "#     # ecog.namespace.yaml\n",
        "#       groups:\n",
        "#       - datasets:\n",
        "#       - dims:\n",
        "#           - face_number\n",
        "#           - vertex_index\n",
        "#           doc: faces for surface, indexes vertices\n",
        "#           dtype: uint\n",
        "#           name: faces\n",
        "#           shape:\n",
        "#           - null\n",
        "#           - 3\n",
        "#       - dims:\n",
        "#           - vertex_number\n",
        "#           - xyz\n",
        "#           doc: vertices for surface, points in 3D space\n",
        "#           dtype: float\n",
        "#           name: vertices\n",
        "#           shape:\n",
        "#           - null\n",
        "#           - 3\n",
        "#       doc: brain cortical surface\n",
        "#       neurodata_type_def: CorticalSurface\n",
        "#       neurodata_type_inc: NWBDataInterface\n",
        "#\n",
        "# Finally, we should test the new types to make sure they run as expected\n",
        "\n",
        "from datetime import datetime\n",
        "\n",
        "import numpy as np\n",
        "\n",
        "from pynwb import NWBHDF5IO, NWBFile, get_class, load_namespaces\n",
        "\n",
        "load_namespaces(\"ecog.namespace.yaml\")\n",
        "CorticalSurface = get_class(\"CorticalSurface\", \"ecog\")\n",
        "\n",
        "cortical_surface = CorticalSurface(\n",
        "    vertices=[\n",
        "        [0.0, 1.0, 1.0],\n",
        "        [1.0, 1.0, 2.0],\n",
        "        [2.0, 2.0, 1.0],\n",
        "        [2.0, 1.0, 1.0],\n",
        "        [1.0, 2.0, 1.0],\n",
        "    ],\n",
        "    faces=np.array([[0, 1, 2], [1, 2, 3]]).astype(\"uint\"),\n",
        "    name=\"cortex\",\n",
        ")\n",
        "\n",
        "nwbfile = NWBFile(\"my first synthetic recording\", \"EXAMPLE_ID\", datetime.now())\n",
        "\n",
        "cortex_module = nwbfile.create_processing_module(\n",
        "    name=\"cortex\", description=\"description\"\n",
        ")\n",
        "cortex_module.add_container(cortical_surface)\n",
        "\n",
        "\n",
        "with NWBHDF5IO(\"test_cortical_surface.nwb\", \"w\") as io:\n",
        "    io.write(nwbfile)"
      ]
    }
  ],
  "metadata": {
    "kernelspec": {
      "display_name": "ndx_env",
      "language": "python",
      "name": "python3"
    },
    "language_info": {
      "codemirror_mode": {
        "name": "ipython",
        "version": 3
      },
      "file_extension": ".py",
      "mimetype": "text/x-python",
      "name": "python",
      "nbconvert_exporter": "python",
      "pygments_lexer": "ipython3",
      "version": "3.11.11"
    }
  },
  "nbformat": 4,
  "nbformat_minor": 0
}
