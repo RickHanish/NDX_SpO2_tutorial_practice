{
 "cells": [
  {
   "cell_type": "code",
   "execution_count": 1,
   "metadata": {},
   "outputs": [],
   "source": [
    "from pynwb import NWBFile, NWBHDF5IO, load_namespaces, register_class, TimeSeries\n",
    "from pynwb.spec import NWBGroupSpec, NWBDatasetSpec, NWBAttributeSpec, NWBNamespaceBuilder, SpecNamespace\n",
    "from pynwb.file import MultiContainerInterface, NWBContainer\n",
    "from hdmf.utils import docval, get_docval, popargs\n",
    "\n",
    "from datetime import datetime\n",
    "from dateutil.tz import tzlocal\n",
    "import numpy as np"
   ]
  },
  {
   "cell_type": "code",
   "execution_count": 2,
   "metadata": {},
   "outputs": [],
   "source": [
    "SpO2 = NWBGroupSpec(\n",
    "    doc='Stores blood oxygen saturation levels',\n",
    "    attributes=[\n",
    "        NWBAttributeSpec(\n",
    "            name='device',\n",
    "            dtype='text',\n",
    "            doc='Identifier for the device type'\n",
    "        )\n",
    "    ],\n",
    "    # datasets=[\n",
    "    #     NWBDatasetSpec(\n",
    "    #         name='SpO2',\n",
    "    #         doc='Blood oxygen saturation levels',\n",
    "    #         dtype='float'\n",
    "    #     )\n",
    "    # ],\n",
    "    neurodata_type_def='SpO2',\n",
    "    neurodata_type_inc='TimeSeries'\n",
    ")\n",
    "\n",
    "name = \"BloodOxygen\"\n",
    "ns_path = name + \".namespace.yaml\"\n",
    "ext_source = name + \".extensions.yaml\"\n",
    "\n",
    "ns_builder = NWBNamespaceBuilder(name + \" extensions\", name, version=\"0.1.0\")\n",
    "ns_builder.include_type(\"TimeSeries\", namespace=\"core\")\n",
    "ns_builder.add_spec(ext_source, SpO2)\n",
    "ns_builder.export(ns_path)"
   ]
  },
  {
   "cell_type": "code",
   "execution_count": 3,
   "metadata": {},
   "outputs": [],
   "source": [
    "load_namespaces(ns_path)\n",
    "\n",
    "@register_class(\"SpO2\", name)\n",
    "class SpO2(TimeSeries):\n",
    "    __nwbfields__ = ('device',)\n",
    "\n",
    "    @docval(\n",
    "        *get_docval(TimeSeries.__init__) #name, data, timestamps, description, units\n",
    "        + ( #{'name':'SpO2', 'type':('array_data', 'data'), 'doc':'Blood oxygen saturation level'},\n",
    "            {'name':'device', 'type':str, 'doc':'Identifier for the device type'},\n",
    "          )\n",
    "    )\n",
    "\n",
    "    def __init__(self, **kwargs):\n",
    "        # SpO2 = popargs('SpO2', kwargs)\n",
    "        device = popargs('device', kwargs)\n",
    "        super().__init__(**kwargs)\n",
    "        # self.SpO2 = SpO2\n",
    "        self.device = device"
   ]
  },
  {
   "cell_type": "code",
   "execution_count": 6,
   "metadata": {},
   "outputs": [],
   "source": [
    "nwbfile = NWBFile(\n",
    "    session_description='Session with blood oxygen data',\n",
    "    identifier='id1',\n",
    "    session_start_time=datetime.now(tz=tzlocal())\n",
    ")\n",
    "\n",
    "example_data = [98.0, 96.5, 97.2]\n",
    "blood_oxygen = SpO2(\n",
    "    name='example_spo2',\n",
    "    # data=np.array([], dtype=float),\n",
    "    # SpO2=example_data,\n",
    "    data=example_data,\n",
    "    timestamps=[1.0, 2.0, 3.0],\n",
    "    device='Apple Watch Series 6',\n",
    "    description='Blood oxygen saturation levels collected from an Apple Watch',\n",
    "    unit='%'\n",
    ")\n",
    "\n",
    "nwbfile.add_acquisition(blood_oxygen)\n",
    "\n",
    "with NWBHDF5IO('blood_oxygen_data.nwb', 'w') as io:\n",
    "    io.write(nwbfile)"
   ]
  },
  {
   "cell_type": "code",
   "execution_count": 16,
   "metadata": {},
   "outputs": [
    {
     "name": "stdout",
     "output_type": "stream",
     "text": [
      "SpO2 Data: [98.  96.5 97.2]\n",
      "Device: Apple Watch Series 6\n"
     ]
    }
   ],
   "source": [
    "with NWBHDF5IO('blood_oxygen_data.nwb', 'r') as io:\n",
    "    nwbfile = io.read()\n",
    "    blood_oxygen_data = nwbfile.acquisition['example_spo2']\n",
    "    print(f'SpO2 Data: {blood_oxygen_data.data[:]}')\n",
    "    print(f'Device: {blood_oxygen_data.device}')"
   ]
  },
  {
   "cell_type": "code",
   "execution_count": null,
   "metadata": {},
   "outputs": [],
   "source": []
  }
 ],
 "metadata": {
  "kernelspec": {
   "display_name": "ndx_env",
   "language": "python",
   "name": "python3"
  },
  "language_info": {
   "codemirror_mode": {
    "name": "ipython",
    "version": 3
   },
   "file_extension": ".py",
   "mimetype": "text/x-python",
   "name": "python",
   "nbconvert_exporter": "python",
   "pygments_lexer": "ipython3",
   "version": "3.11.11"
  }
 },
 "nbformat": 4,
 "nbformat_minor": 2
}
